{
  "nbformat": 4,
  "nbformat_minor": 0,
  "metadata": {
    "colab": {
      "provenance": [],
      "authorship_tag": "ABX9TyPQnFogMEZ+NqLbfKG2jUAi",
      "include_colab_link": true
    },
    "kernelspec": {
      "name": "python3",
      "display_name": "Python 3"
    },
    "language_info": {
      "name": "python"
    }
  },
  "cells": [
    {
      "cell_type": "markdown",
      "metadata": {
        "id": "view-in-github",
        "colab_type": "text"
      },
      "source": [
        "<a href=\"https://colab.research.google.com/github/mngtgit/AluraGemini/blob/main/Mochileiros_Espaciais.ipynb\" target=\"_parent\"><img src=\"https://colab.research.google.com/assets/colab-badge.svg\" alt=\"Open In Colab\"/></a>"
      ]
    },
    {
      "cell_type": "code",
      "source": [
        "!pip -q install google-genai"
      ],
      "metadata": {
        "id": "1pvW9ljZ6h5o"
      },
      "execution_count": 4,
      "outputs": []
    },
    {
      "cell_type": "code",
      "source": [
        "# Configura a API Key do Google Gemini\n",
        "\n",
        "import os\n",
        "from google.colab import userdata\n",
        "\n",
        "os.environ[\"GOOGLE_API_KEY\"] = userdata.get('GOOGLE_API_KEY')"
      ],
      "metadata": {
        "id": "jy06JKsW6js2"
      },
      "execution_count": 5,
      "outputs": []
    },
    {
      "cell_type": "code",
      "source": [
        "!pip install -q google-adk"
      ],
      "metadata": {
        "id": "un4P5iuL6nx-",
        "colab": {
          "base_uri": "https://localhost:8080/"
        },
        "outputId": "9c90535e-d47d-4f08-905f-c8b51504aef2"
      },
      "execution_count": 6,
      "outputs": [
        {
          "output_type": "stream",
          "name": "stdout",
          "text": [
            "\u001b[?25l   \u001b[90m━━━━━━━━━━━━━━━━━━━━━━━━━━━━━━━━━━━━━━━━\u001b[0m \u001b[32m0.0/1.2 MB\u001b[0m \u001b[31m?\u001b[0m eta \u001b[36m-:--:--\u001b[0m\r\u001b[2K   \u001b[91m━━━━━━━━━━━━━━\u001b[0m\u001b[91m╸\u001b[0m\u001b[90m━━━━━━━━━━━━━━━━━━━━━━━━━\u001b[0m \u001b[32m0.4/1.2 MB\u001b[0m \u001b[31m13.0 MB/s\u001b[0m eta \u001b[36m0:00:01\u001b[0m\r\u001b[2K   \u001b[90m━━━━━━━━━━━━━━━━━━━━━━━━━━━━━━━━━━━━━━━━\u001b[0m \u001b[32m1.2/1.2 MB\u001b[0m \u001b[31m17.9 MB/s\u001b[0m eta \u001b[36m0:00:00\u001b[0m\n",
            "\u001b[?25h\u001b[?25l   \u001b[90m━━━━━━━━━━━━━━━━━━━━━━━━━━━━━━━━━━━━━━━━\u001b[0m \u001b[32m0.0/232.1 kB\u001b[0m \u001b[31m?\u001b[0m eta \u001b[36m-:--:--\u001b[0m\r\u001b[2K   \u001b[90m━━━━━━━━━━━━━━━━━━━━━━━━━━━━━━━━━━━━━━━━\u001b[0m \u001b[32m232.1/232.1 kB\u001b[0m \u001b[31m12.3 MB/s\u001b[0m eta \u001b[36m0:00:00\u001b[0m\n",
            "\u001b[2K   \u001b[90m━━━━━━━━━━━━━━━━━━━━━━━━━━━━━━━━━━━━━━━━\u001b[0m \u001b[32m95.2/95.2 kB\u001b[0m \u001b[31m6.1 MB/s\u001b[0m eta \u001b[36m0:00:00\u001b[0m\n",
            "\u001b[2K   \u001b[90m━━━━━━━━━━━━━━━━━━━━━━━━━━━━━━━━━━━━━━━━\u001b[0m \u001b[32m217.1/217.1 kB\u001b[0m \u001b[31m15.3 MB/s\u001b[0m eta \u001b[36m0:00:00\u001b[0m\n",
            "\u001b[2K   \u001b[90m━━━━━━━━━━━━━━━━━━━━━━━━━━━━━━━━━━━━━━━━\u001b[0m \u001b[32m334.1/334.1 kB\u001b[0m \u001b[31m19.8 MB/s\u001b[0m eta \u001b[36m0:00:00\u001b[0m\n",
            "\u001b[2K   \u001b[90m━━━━━━━━━━━━━━━━━━━━━━━━━━━━━━━━━━━━━━━━\u001b[0m \u001b[32m125.1/125.1 kB\u001b[0m \u001b[31m8.5 MB/s\u001b[0m eta \u001b[36m0:00:00\u001b[0m\n",
            "\u001b[2K   \u001b[90m━━━━━━━━━━━━━━━━━━━━━━━━━━━━━━━━━━━━━━━━\u001b[0m \u001b[32m65.8/65.8 kB\u001b[0m \u001b[31m4.2 MB/s\u001b[0m eta \u001b[36m0:00:00\u001b[0m\n",
            "\u001b[2K   \u001b[90m━━━━━━━━━━━━━━━━━━━━━━━━━━━━━━━━━━━━━━━━\u001b[0m \u001b[32m119.0/119.0 kB\u001b[0m \u001b[31m7.2 MB/s\u001b[0m eta \u001b[36m0:00:00\u001b[0m\n",
            "\u001b[2K   \u001b[90m━━━━━━━━━━━━━━━━━━━━━━━━━━━━━━━━━━━━━━━━\u001b[0m \u001b[32m194.9/194.9 kB\u001b[0m \u001b[31m12.5 MB/s\u001b[0m eta \u001b[36m0:00:00\u001b[0m\n",
            "\u001b[2K   \u001b[90m━━━━━━━━━━━━━━━━━━━━━━━━━━━━━━━━━━━━━━━━\u001b[0m \u001b[32m62.5/62.5 kB\u001b[0m \u001b[31m4.1 MB/s\u001b[0m eta \u001b[36m0:00:00\u001b[0m\n",
            "\u001b[2K   \u001b[90m━━━━━━━━━━━━━━━━━━━━━━━━━━━━━━━━━━━━━━━━\u001b[0m \u001b[32m103.3/103.3 kB\u001b[0m \u001b[31m6.7 MB/s\u001b[0m eta \u001b[36m0:00:00\u001b[0m\n",
            "\u001b[2K   \u001b[90m━━━━━━━━━━━━━━━━━━━━━━━━━━━━━━━━━━━━━━━━\u001b[0m \u001b[32m44.4/44.4 kB\u001b[0m \u001b[31m2.9 MB/s\u001b[0m eta \u001b[36m0:00:00\u001b[0m\n",
            "\u001b[2K   \u001b[90m━━━━━━━━━━━━━━━━━━━━━━━━━━━━━━━━━━━━━━━━\u001b[0m \u001b[32m72.0/72.0 kB\u001b[0m \u001b[31m4.9 MB/s\u001b[0m eta \u001b[36m0:00:00\u001b[0m\n",
            "\u001b[?25h"
          ]
        }
      ]
    },
    {
      "cell_type": "code",
      "source": [
        "# Instalar Framework ADK de agentes do Google ################################################\n",
        "from google.adk.agents import Agent\n",
        "from google.adk.runners import Runner\n",
        "from google.adk.sessions import InMemorySessionService\n",
        "from google.adk.tools import google_search\n",
        "from google.genai import types # Para criar conteúdos (Content e Part)\n",
        "from datetime import date\n",
        "import textwrap # Para formatar melhor a saída de texto\n",
        "from IPython.display import display, Markdown # Para exibir texto formatado no Colab\n",
        "import requests # Para fazer requisições HTTP\n",
        "import warnings\n",
        "\n",
        "warnings.filterwarnings(\"ignore\")"
      ],
      "metadata": {
        "id": "W0PZVDm-6riL"
      },
      "execution_count": 7,
      "outputs": []
    },
    {
      "cell_type": "code",
      "source": [
        "# Função auxiliar que envia uma mensagem para um agente via Runner e retorna a resposta final\n",
        "def call_agent(agent: Agent, message_text: str) -> str:\n",
        "    # Cria um serviço de sessão em memória\n",
        "    session_service = InMemorySessionService()\n",
        "\n",
        "    # Cria uma nova sessão (você pode personalizar os IDs conforme necessário)\n",
        "    session = session_service.create_session(app_name=agent.name, user_id=\"user1\", session_id=\"session1\")\n",
        "\n",
        "    # Cria um Runner para o agente\n",
        "    runner = Runner(agent=agent, app_name=agent.name, session_service=session_service)\n",
        "\n",
        "    # Cria o conteúdo da mensagem de entrada\n",
        "    content = types.Content(role=\"user\", parts=[types.Part(text=message_text)])\n",
        "\n",
        "    final_response = \"\"\n",
        "\n",
        "    # Itera assincronamente pelos eventos retornados durante a execução do agente\n",
        "    for event in runner.run(user_id=\"user1\", session_id=\"session1\", new_message=content):\n",
        "        if event.is_final_response():\n",
        "          for part in event.content.parts:\n",
        "            if part.text is not None:\n",
        "              final_response += part.text\n",
        "              final_response += \"\\n\"\n",
        "    return final_response"
      ],
      "metadata": {
        "id": "o0ferG476xcp"
      },
      "execution_count": 8,
      "outputs": []
    },
    {
      "cell_type": "code",
      "source": [
        "# Função auxiliar para exibir texto formatado em Markdown no Colab\n",
        "def to_markdown(text):\n",
        "  text = text.replace('•', '  *')\n",
        "  return Markdown(textwrap.indent(text, '> ', predicate=lambda _: True))"
      ],
      "metadata": {
        "id": "fz1a1Ga464WL"
      },
      "execution_count": 9,
      "outputs": []
    },
    {
      "cell_type": "code",
      "source": [
        "##########################################\n",
        "# --- Agente 1: Buscador Galáxia --- #\n",
        "##########################################\n",
        "def agente_buscador_galaxia():\n",
        "\n",
        "    buscador_galaxia = Agent(\n",
        "        name=\"agente_buscador_galaxia\",\n",
        "        model=\"gemini-2.0-flash\",\n",
        "        description=\"Agente que busca galáxias no Google\",\n",
        "        tools=[google_search],\n",
        "        instruction=\"\"\"\n",
        "        Você é um especialista em astronomia.\n",
        "        A sua tarefa é usar a ferramenta de busca do google (google_search)\n",
        "        as galáxias existentes.\n",
        "        Liste 3 nomes das galaxias aleatoriamente, incluindo a via lactea.\n",
        "        Constar características das galáxias\n",
        "        Para percorrer as distâncias entre as galáxias será considerada hipoteticamente as informações abaixo.\n",
        "        Cada 1.500.000 ano-luz converter 1.0 dia.\n",
        "        A distância entre as galáxias que for maior que 1.0 dia, notificar que necessita de escalas.\n",
        "        A distância entre as galáxias com menos de um dia não necessita de escala\n",
        "        Considerar que existem naves espaciais que viajam 1.500.000 anos-luz por dia.\n",
        "        \"\"\"\n",
        "    )\n",
        "\n",
        "    entrada_do_agente_buscador = f\"Galáxia\\n\"\n",
        "\n",
        "    buscados_galaxias = call_agent(buscador_galaxia, entrada_do_agente_buscador)\n",
        "\n",
        "    return buscados_galaxias"
      ],
      "metadata": {
        "id": "ff4sqDvCZ8a0"
      },
      "execution_count": 48,
      "outputs": []
    },
    {
      "cell_type": "code",
      "source": [
        "##########################################\n",
        "# --- Agente 2: Buscador Planetas --- #\n",
        "##########################################\n",
        "def agente_buscador_planeta():\n",
        "\n",
        "    buscador_planetas = Agent(\n",
        "        name=\"agente_buscador_planeta\",\n",
        "        model=\"gemini-2.0-flash\",\n",
        "        description=\"Agente que busca planetas no Google\",\n",
        "        tools=[google_search],\n",
        "        instruction=\"\"\"\n",
        "        Você é um especialista em astronomia.\n",
        "        A sua tarefa é usar a ferramenta de busca do google (google_search)\n",
        "        as galáxias existentes.\n",
        "        Liste 3 planetas do sistema solar.\n",
        "        Não citar o planeta Terra\n",
        "        Constar características dos planetas\n",
        "        Para cada planeta notificar junto com a listagem a distância do planeta até o planeta Terra\n",
        "        Para as distâncias considerar hipoteticamente as informações abaixo.\n",
        "        Cada 150.000.000 km converter 1.0 dia.\n",
        "        A distância que for maior que 1.0 dia, notificar que necessita de escalas.\n",
        "        A distância com menos de um dia não necessita de escala\n",
        "        Considerar que existem naves espaciais que viajam 150.000.000 km por dia.\n",
        "        \"\"\"\n",
        "    )\n",
        "\n",
        "    entrada_do_agente_buscador = f\"Planeta\\n\"\n",
        "\n",
        "    buscados_planeta = call_agent(buscador_planetas, entrada_do_agente_buscador)\n",
        "\n",
        "    return buscados_planetas"
      ],
      "metadata": {
        "id": "esKMwPmWwGPk"
      },
      "execution_count": 56,
      "outputs": []
    },
    {
      "cell_type": "code",
      "source": [
        "##########################################\n",
        "# ---  Agente 3: Marketing Digitais  --- #\n",
        "##########################################\n",
        "def agente_mktdigital(topico):\n",
        "\n",
        "    especialista_mktdigital = Agent(\n",
        "        name=\"agente_mktdigital\",\n",
        "        model=\"gemini-2.0-flash\",\n",
        "        description=\"Agente que criará campanha da agência de turismo espacial\",\n",
        "        tools=[google_search],\n",
        "        instruction=\"\"\"\n",
        "        Você é um especialista em marketing digital.\n",
        "        A sua tarefa é criar uma campanha para um público que quer viver uma avetura especial e extraordinária.\n",
        "        Manter as informações e realçá-las explorando a imaginação de quem quer conhecer o inexploradas galáxias e planetas.\n",
        "        A ficção e informações irreais são permitidas.\n",
        "        \"\"\"\n",
        "    )\n",
        "\n",
        "    # entrada_do_agente_mktdigital = f\"Galáxia: {galaxia}\\nPlaneta: {planeta}\"\n",
        "    entrada_do_agente_mktdigital = \"{topico}\"\n",
        "\n",
        "    campanha = call_agent(especialista_mktdigital, entrada_do_agente_mktdigital)\n",
        "\n",
        "    return campanha"
      ],
      "metadata": {
        "id": "-ZixWRoj3EKJ"
      },
      "execution_count": 50,
      "outputs": []
    },
    {
      "cell_type": "code",
      "source": [
        "##########################################\n",
        "# --- Agente 4: Revisor de Qualidade --- #\n",
        "##########################################\n",
        "def agente_redesocial(topico):\n",
        "    revisor = Agent(\n",
        "        name=\"agente_editor_rs\",\n",
        "        model=\"gemini-2.5-pro-preview-03-25\",\n",
        "        instruction=\"\"\"\n",
        "            Você é um Editor e Revisor de Conteúdo meticuloso, especializado em posts para redes sociais, com foco no Instagram.\n",
        "            Por ter um público heterogêneo, entre 18 e 30 anos, use um tom de escrita adequado e explorando a imaginação surreal.\n",
        "            A ficção e informações irreais são permitidas.\n",
        "            \"\"\",\n",
        "        description=\"Agente revisor de post para redes sociais.\"\n",
        "    )\n",
        "    entrada_do_agente_redesocial = f\"Tópico: {topico}\\n\"\n",
        "\n",
        "    texto_redesocial = call_agent(revisor, entrada_do_agente_redesocial)\n",
        "    return texto_redesocial"
      ],
      "metadata": {
        "id": "oJAg6PfWBx--"
      },
      "execution_count": 59,
      "outputs": []
    },
    {
      "cell_type": "code",
      "source": [
        "buscados_galaxias = agente_buscador_galaxia()\n",
        "print(buscados_galaxias)\n",
        "\n",
        "buscados_planetas = agente_buscador_planeta()\n",
        "print(buscados_planetas)\n",
        "\n",
        "campanha_redesocial = agente_redesocial(buscados_galaxias + buscados_planetas)\n",
        "display(to_markdown(campanha_redesocial))\n",
        "\n",
        "\n",
        "\n",
        "\n"
      ],
      "metadata": {
        "colab": {
          "base_uri": "https://localhost:8080/",
          "height": 1000
        },
        "id": "42d3V7_VWSXu",
        "outputId": "4e10c508-e7e5-47d7-e451-e230a6a4fe77"
      },
      "execution_count": 60,
      "outputs": [
        {
          "output_type": "stream",
          "name": "stdout",
          "text": [
            "Olá! Como especialista em astronomia e agente buscador de galáxias, preparei uma lista com 3 galáxias, incluindo a nossa Via Láctea, juntamente com suas características e o tempo de viagem entre elas, considerando as suas especificações:\n",
            "\n",
            "\n",
            "Aqui estão 3 galáxias com suas características e tempo estimado de viagem:\n",
            "\n",
            "1.  **Via Láctea:**\n",
            "    *   **Características:** É uma galáxia espiral barrada, lar do nosso Sistema Solar. Possui um diâmetro de aproximadamente 100.000 anos-luz e contém entre 100 a 400 bilhões de estrelas. Apresenta um bojo central, um disco galáctico e um halo galáctico.\n",
            "2.  **Galáxia de Andrômeda (M31):**\n",
            "    *   **Características:** É uma galáxia espiral localizada a cerca de 2,54 milhões de anos-luz da Terra. É a galáxia espiral mais próxima da Via Láctea e a maior do Grupo Local. Possui um diâmetro entre 180 e 220 mil anos-luz e contém aproximadamente 1 trilhão de estrelas.\n",
            "    *   **Tempo de Viagem:** 2,54 milhões de anos-luz equivalem a aproximadamente 1,69 dias de viagem.\n",
            "3.  **Galáxia do Triângulo (M33):**\n",
            "    *   **Características:** É uma galáxia espiral localizada a cerca de 3 milhões de anos-luz de distância. É menor que a Via Láctea e Andrômeda, com um diâmetro de 50 mil anos-luz e contendo entre 40 e 60 bilhões de estrelas.\n",
            "    *   **Tempo de Viagem:** 3 milhões de anos-luz equivalem a 2 dias de viagem, necessitando de escalas\n",
            "\n",
            "**Considerações sobre as viagens:**\n",
            "\n",
            "*   **Via Láctea para Andrômeda:** A distância de 2,54 milhões de anos-luz levaria cerca de 1,69 dias de viagem.\n",
            "*   **Via Láctea para Galáxia do Triângulo:** A distância de 3 milhões de anos-luz levaria 2 dias de viagem, necessitando de escalas\n",
            "*   **Andrômeda para Galáxia do Triângulo:** A distância entre Andrômeda e a Galáxia do Triângulo é de aproximadamente 750.000 anos-luz. Isso levaria cerca de 0,5 dias de viagem.\n",
            "\n",
            "Lembre-se que esses cálculos são baseados na premissa de uma nave que viaja a 1.500.000 anos-luz por dia.\n",
            "\n",
            "\n",
            "Aqui estão 3 planetas do sistema solar, excluindo a Terra, com suas características e uma estimativa da distância até a Terra em \"dias\", usando a sua regra de conversão (150.000.000 km = 1 dia):\n",
            "\n",
            "1.  **Marte:**\n",
            "\n",
            "    *   **Características:** Planeta rochoso, conhecido por sua cor avermelhada devido à presença de óxido de ferro na superfície. Possui uma atmosfera tênue e calotas polares.\n",
            "    *   **Distância:** A distância entre a Terra e Marte varia muito dependendo de suas posições orbitais. Na oposição (quando estão mais próximos), a distância pode ser de cerca de 54,6 milhões de km.\n",
            "    *   **Cálculo:** 54.600.000 km / 150.000.000 km/dia = 0,364 dias.\n",
            "2.  **Júpiter:**\n",
            "\n",
            "    *   **Características:** O maior planeta do sistema solar, um gigante gasoso composto principalmente de hidrogênio e hélio. Possui um sistema de anéis tênue e muitas luas, incluindo as luas galileanas.\n",
            "    *   **Distância:** A distância até Júpiter também varia. Na oposição, pode ser de cerca de 588 milhões de km.\n",
            "    *   **Cálculo:** 588.000.000 km / 150.000.000 km/dia = 3,92 dias (necessita de escalas).\n",
            "3.  **Saturno:**\n",
            "\n",
            "    *   **Características:** Um gigante gasoso famoso por seus anéis proeminentes, que são compostos de gelo e rocha. Também possui muitas luas.\n",
            "    *   **Distância:** Similarmente a Júpiter, a distância varia. Na oposição, pode ser de aproximadamente 1,2 bilhões de km.\n",
            "    *   **Cálculo:** 1.200.000.000 km / 150.000.000 km/dia = 8 dias (necessita de escalas).\n",
            "\n",
            "Note que essas distâncias são aproximadas e representam as menores distâncias possíveis durante a oposição. As distâncias reais em um dado momento podem ser muito maiores. Além disso, a conversão para \"dias\" é baseada na sua definição de 150.000.000 km equivalerem a 1 dia.\n",
            "\n",
            "Excelente! Aqui está uma versão refinada das informações, incorporando os resultados da pesquisa:\n",
            "\n",
            "**Marte**\n",
            "\n",
            "*   **Características:** Planeta rochoso com atmosfera tênue. A cor avermelhada é devida ao óxido de ferro na superfície. Possui estações do ano e formações notáveis como o Monte Olimpo (a maior montanha em um planeta do Sistema Solar) e o Valles Marineris (um gigantesco desfiladeiro).\n",
            "*   **Distância:** A distância varia consideravelmente. A menor distância possível (na oposição) é de aproximadamente 54,6 milhões de km.\n",
            "*   **Cálculo:** 54.600.000 km / 150.000.000 km/dia = 0,364 dias (não necessita de escala).\n",
            "\n",
            "**Júpiter**\n",
            "\n",
            "*   **Características:** O maior planeta do Sistema Solar, um gigante gasoso composto principalmente de hidrogênio e hélio. Possui muitas luas (95 confirmadas) e um sistema de anéis tênue. Destaque para a Grande Mancha Vermelha, uma tempestade persistente maior que a Terra.\n",
            "*   **Distância:** A distância na oposição pode ser de cerca de 590 milhões de km (varia).\n",
            "*   **Cálculo:** 590.000.000 km / 150.000.000 km/dia = 3,93 dias (necessita de escalas).\n",
            "\n",
            "**Saturno**\n",
            "\n",
            "*   **Características:** Um gigante gasoso conhecido por seus anéis proeminentes, compostos de gelo e rocha. Possui muitas luas (274 confirmadas). Sua densidade é tão baixa que, hipoteticamente, flutuaria na água.\n",
            "*   **Distância:** A distância até Saturno varia. Em 2020, na conjunção, a distância era de cerca de 1,62 bilhões de km. A menor distância possível é em torno de 1 bilhão de km.\n",
            "*   **Cálculo:** 1.000.000.000 km / 150.000.000 km/dia = 6,67 dias (necessita de escalas).\n",
            "\n",
            "**Considerações Adicionais:**\n",
            "\n",
            "*   **Variação das Distâncias:** É fundamental lembrar que as distâncias entre os planetas mudam constantemente devido às suas órbitas elípticas. Os valores fornecidos são aproximações.\n",
            "*   **Oposição:** A \"oposição\" ocorre quando a Terra está diretamente entre o Sol e o planeta externo, o que geralmente resulta na menor distância entre os planetas e, portanto, em melhor visibilidade.\n",
            "*   **Unidade Astronômica (UA):** Uma UA é a distância média entre a Terra e o Sol (aproximadamente 150 milhões de km). As distâncias no Sistema Solar são frequentemente expressas em UA.\n",
            "*   **Minutos-luz:** As distâncias dentro do Sistema Solar também podem ser expressas em termos de \"minutos-luz\", que é o tempo que a luz leva para viajar entre os objetos.\n",
            "\n",
            "Espero que esta versão expandida seja ainda mais útil!\n",
            "\n",
            "\n"
          ]
        },
        {
          "output_type": "display_data",
          "data": {
            "text/plain": [
              "<IPython.core.display.Markdown object>"
            ],
            "text/markdown": "> Ok, Agente Buscador de Galáxias! Sua lista está cósmica, mas vamos dar aquele toque de surrealismo e fluidez para fazer a imaginação da galera de 18-30 anos decolar no Instagram! 🚀✨\n> \n> ---\n> \n> **SUGESTÃO DE POST PARA INSTAGRAM:**\n> \n> **(Imagem/Carrossel Sugerido: Uma montagem surreal de uma nave espacial estilizada viajando entre representações artísticas vibrantes das galáxias e planetas mencionados. Pense em cores neon, nebulosas rodopiantes e uma estética meio vaporwave cósmico.)**\n> \n> 🛸✨ **ALERTA DE ROTEIRO INTERGALÁCTICO!** ✨🛸\n> \n> E aí, exploradores da vastidão? Seu agente de viagens estelares particular (@[SeuUserAqui], claro!) mapeou umas escapadas cósmicas que vão fazer sua noção de \"longe\" virar poeira de cometa! Com nossa tecnologia de dobra espacial (totalmente movida a sonhos e antimatéria de unicórnio 🦄), o universo é logo ali!\n> \n> **🌌 ROTA DAS GALÁXIAS – EXPRESSO CÓSMICO:**\n> (Velocidade de cruzeiro: 1.500.000 anos-luz por dia! Piscou, chegou!)\n> \n> 1.  🌠 **VIA LÁCTEA (Nosso Quintal Estrelado):**\n>     *   **VIBE:** Lar, doce lar! Um turbilhão de 100 a 400 bilhões de estrelas, com um centro borbulhante de energia e braços espirais que acenam para o infinito. Ponto de partida obrigatório para qualquer mochileiro das galáxias.\n>     *   **TEMPO DE VIAGEM:** Já estamos aqui, né? Mas cruzar de uma ponta a outra... bom, isso é outra história!\n> \n> 2.  🌀 **ANDRÔMEDA (M31 – A Vizinha Ostentação):**\n>     *   **VIBE:** A \"Big Sister\" da Via Láctea, com 1 TRILHÃO de estrelas e um brilho que ofusca! Dizem que os buracos negros de lá dão as melhores festas.\n>     *   **TEMPO DE VIAGEM DA VIA LÁCTEA:** Agarre seu travesseiro de pescoço! São apenas **1,69 dias** de pura contemplação cósmica. Quase um feriadão prolongado!\n> \n> 3.  💠 **GALÁXIA DO TRIÂNGULO (M33 – A Descolada Charmosa):**\n>     *   **VIBE:** Menorzinha, mas com um charme todo especial. É tipo aquela cidadezinha hipster do universo, cheia de nebulosas artesanais e estrelas \"indie\".\n>     *   **TEMPO DE VIAGEM DA VIA LÁCTEA:** Uns meros **2 dias**, com uma escala rápida para um lanche de meteoritos. De Andrômeda pra lá? Meio diazinho, um pulo!\n> \n> ---\n> \n> **🪐 TOUR PELO SISTEMA SOLAR – VERSÃO POCKET (150.000.000 km = 1 Dia de Viagem na Nossa Scooter Espacial Tunada!):**\n> \n> Achou as galáxias muito \"mainstream\"? Que tal um rolê pelos nossos vizinhos planetários?\n> \n> 1.  🔴 **MARTE (O Planeta Vermelho Hype):**\n>     *   **VIBE:** Paisagens desérticas com potencial para selfies épicas no Monte Olimpo. A atmosfera é tênue, então traga seu próprio oxigênio (e filtro solar!).\n>     *   **DISTÂNCIA DA TERRA (quando tá pertinho):** Um pulinho de **0,364 dias**. Dá pra ir almoçar e voltar pra maratonar a série!\n> \n> 2.  🟠 **JÚPITER (O Gigantão Festeiro):**\n>     *   **VIBE:** O rei do sistema, com sua Grande Mancha Vermelha (uma tempestade que dura séculos – imagina o after!). Suas 95 luas são tipo camarotes VIP.\n>     *   **DISTÂNCIA DA TERRA (com sorte):** Cerca de **3,93 dias**, com algumas escalas panorâmicas para admirar os anéis (sim, ele tem anéis discretos!).\n> \n> 3.  🪐 **SATURNO (O Senhor dos Anéis Icônico):**\n>     *   **VIBE:** Seus anéis são a passarela da moda cósmica! Composto de gelo e rocha, é tão leve que boiaria numa banheira gigante (se existisse uma). E com 274 luas, a festa nunca acaba!\n>     *   **DISTÂNCIA DA TERRA (na melhor das hipóteses):** Uns **6,67 dias** de viagem, parando para pegar um gelo dos anéis pro seu drink espacial.\n> \n> ---\n> \n> **E aí, qual desses destinos surreais você carimbaria no seu passaporte cósmico primeiro? 🌠👇 Comenta aí qual planeta ou galáxia você sonha em visitar (ou se já tem uma teoria maluca sobre eles)!**\n> \n> #ViagemEspacial #UniversoSurreal #AstronomiaCriativa #InstagramCosmico #ExploradoresDeGalaxias #SonhosIntergalacticos #FiccaoCientifica #Marte #Jupiter #Saturno #Andromeda #ViaLactea #GalaxiaDoTriangulo #ImaginacaoSemLimites #RoleNoEspaco\n> \n> ---\n> \n> **Principais alterações e porquês:**\n> \n> 1.  **Tom de Voz e Linguagem:** Adequado para o público de 18-30 anos, usando expressões como \"vibe\", \"ostentação\", \"descolada charmosa\", \"rolê\", \"hype\", \"gigantão festeiro\", \"icônico\", \"piscou, chegou\", \"passaporte cósmico\".\n> 2.  **Surrealismo e Imaginação:** Introdução da \"tecnologia de dobra espacial movida a sonhos e antimatéria de unicórnio\", \"lanche de meteoritos\", \"buracos negros que dão festas\", \"nebulosas artesanais\", \"after na Grande Mancha Vermelha\", \"camarotes VIP nas luas de Júpiter\", \"pegar gelo dos anéis de Saturno\". Isso atende ao pedido de ficção e informações irreais.\n> 3.  **Estrutura para Instagram:**\n>     *   Título chamativo com emojis.\n>     *   Uso de emojis para quebrar o texto e adicionar apelo visual.\n>     *   Parágrafos curtos e listas para facilitar a leitura rápida.\n>     *   Call to action claro e engajador no final, incentivando comentários.\n>     *   Hashtags relevantes e criativos, incluindo alguns que reforçam o tom surreal.\n> 4.  **Foco no \"Tempo de Viagem\":** Mantive o foco nos tempos de viagem fictícios, que são o elemento mais \"surreal\" e divertido da proposta original.\n> 5.  **Características Resumidas e Evocativas:** As descrições dos corpos celestes foram encurtadas e receberam um toque mais descritivo e imaginativo (\"centro borbulhante de energia\", \"brilho que ofusca\", \"passarela da moda cósmica\").\n> 6.  **Sugestão Visual:** Adicionei uma sugestão de imagem/carrossel para complementar o texto, pois o Instagram é uma plataforma visual.\n> \n> Espero que essa versão te inspire e faça sucesso com seus seguidores! 🌌🚀\n"
          },
          "metadata": {}
        }
      ]
    }
  ]
}